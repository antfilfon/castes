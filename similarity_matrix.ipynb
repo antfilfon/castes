{
 "cells": [
  {
   "cell_type": "code",
   "execution_count": 23,
   "metadata": {},
   "outputs": [],
   "source": [
    "from util_kw import *\n",
    "import numpy as np\n",
    "from gensim.models import Word2Vec\n",
    "from scipy import spatial"
   ]
  },
  {
   "cell_type": "code",
   "execution_count": 24,
   "metadata": {
    "collapsed": true
   },
   "outputs": [],
   "source": [
    "path_root_processed='C:\\\\Users\\\\dell\\\\Desktop\\\\Castes\\\\processed'\n",
    "path_models = 'C:\\\\Users\\\\dell\\\\Desktop\\\\Castes\\\\processed\\\\word2vec_models'\n",
    "path_phraser_models='C:\\\\Users\\\\dell\\\\Desktop\\\\Castes\\\\processed\\\\phraser_models\\\\'\n",
    "journal = 'IN-indianexpress-india'"
   ]
  },
  {
   "cell_type": "code",
   "execution_count": 25,
   "metadata": {
    "collapsed": true
   },
   "outputs": [],
   "source": [
    "wvm = Word2Vec.load(path_models+'\\\\'+journal+'_with_phraser').wv"
   ]
  },
  {
   "cell_type": "code",
   "execution_count": 40,
   "metadata": {},
   "outputs": [],
   "source": [
    "def get_words(wvm, word, dep, tn):\n",
    "    vocab = wvm.vocab\n",
    "    all_words = [x for x in vocab.keys()]\n",
    "    l_words_dict = {}\n",
    "    if word in all_words:\n",
    "        word_add_(word, wvm, l_words_dict, depth=dep, topn=tn)\n",
    "    else:\n",
    "        print (\"Word \"+word+\" not found.\")\n",
    "\n",
    "    l_words_simpl = {}\n",
    "    for w in l_words_dict :\n",
    "        l_words_simpl[w] = 1.0\n",
    "        for ww in l_words_dict[w] :\n",
    "            l_words_simpl[ww[0]]=ww[1]\n",
    "    return l_words_simpl\n",
    "\n",
    "def similarity(list1,list2, wvm):\n",
    "    t1 = wvm[list1.keys()[0]]\n",
    "    l1 = len(list1.keys())\n",
    "    for i in range(1,l1):\n",
    "        t1 = np.sum((t1,wvm[list1.keys()[i]]),axis=0)\n",
    "    t2 = wvm[list2.keys()[0]]\n",
    "    l2 = len(list2.keys())\n",
    "    for i in range(1,l2):\n",
    "        t2 = np.sum((t2,wvm[list2.keys()[i]]),axis=0)\n",
    "    return 1 - spatial.distance.cosine(t1/l1, t2/l2)\n",
    "\n",
    "def print_similarities_between_word_list(wlist, fname):\n",
    "    f = open(fname,'w+')\n",
    "    for i in range(0,len(wlist)-1):\n",
    "        f.write(wlist[i]+'\\t')\n",
    "    f.write(wlist[len(wlist)-1]+'\\n')\n",
    "    for i in range(0,len(wlist)-1):\n",
    "        word1 = wlist[i]\n",
    "        for j in range(0,i+1):\n",
    "            f.write('0.0'+'\\t')\n",
    "        for j in range(i+1,len(wlist)):\n",
    "            word2 = wlist[j]\n",
    "            try:\n",
    "                list1 = get_words(wvm, word1,2,6)\n",
    "                list2 = get_words(wvm, word2,2,6)\n",
    "            except ValueError:\n",
    "                continue\n",
    "            sim = similarity(list1, list2, wvm)\n",
    "            f.write(str(similarity(list1, list2, wvm)))\n",
    "            if j < (len(wlist)-1):\n",
    "                f.write('\\t')\n",
    "        f.write('\\n')\n",
    "    f.close()"
   ]
  },
  {
   "cell_type": "code",
   "execution_count": 42,
   "metadata": {},
   "outputs": [],
   "source": [
    "print_similarities_between_word_list(lower_caste_keywords+upper_caste_keywords+priviledge_keywords+negative_aspect+positive_aspect+neutral_keywords, 'C:\\\\Users\\\\dell\\\\Desktop\\\\Castes\\\\test.csv')"
   ]
  },
  {
   "cell_type": "code",
   "execution_count": null,
   "metadata": {
    "collapsed": true
   },
   "outputs": [],
   "source": []
  }
 ],
 "metadata": {
  "kernelspec": {
   "display_name": "Python 2",
   "language": "python",
   "name": "python2"
  },
  "language_info": {
   "codemirror_mode": {
    "name": "ipython",
    "version": 2
   },
   "file_extension": ".py",
   "mimetype": "text/x-python",
   "name": "python",
   "nbconvert_exporter": "python",
   "pygments_lexer": "ipython2",
   "version": "2.7.14"
  }
 },
 "nbformat": 4,
 "nbformat_minor": 2
}
