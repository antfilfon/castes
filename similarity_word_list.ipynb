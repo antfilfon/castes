{
 "cells": [
  {
   "cell_type": "code",
   "execution_count": 41,
   "metadata": {},
   "outputs": [],
   "source": [
    "%matplotlib inline\n",
    "from gensim.models import Word2Vec\n",
    "from util_kw import *\n",
    "import numpy as np\n",
    "from scipy import spatial"
   ]
  },
  {
   "cell_type": "code",
   "execution_count": 2,
   "metadata": {
    "collapsed": true
   },
   "outputs": [],
   "source": [
    "path_root_processed='C:\\\\Users\\\\dell\\\\Desktop\\\\Castes\\\\processed'\n",
    "path_models = 'C:\\\\Users\\\\dell\\\\Desktop\\\\Castes\\\\processed\\\\word2vec_models'\n",
    "path_phraser_models='C:\\\\Users\\\\dell\\\\Desktop\\\\Castes\\\\processed\\\\phraser_models\\\\'\n",
    "journal = 'IN-indianexpress-india'"
   ]
  },
  {
   "cell_type": "code",
   "execution_count": 3,
   "metadata": {
    "collapsed": true
   },
   "outputs": [],
   "source": [
    "wvm = Word2Vec.load(path_models+'\\\\'+journal+'_with_phraser').wv"
   ]
  },
  {
   "cell_type": "code",
   "execution_count": 4,
   "metadata": {
    "collapsed": true
   },
   "outputs": [],
   "source": [
    "def get_words(wvm, cw, dep, tn):\n",
    "    vocab = wvm.vocab\n",
    "    all_words = [x for x in vocab.keys()]\n",
    "    l_words_dict = {}\n",
    "    for word in cw:\n",
    "        if word in all_words:\n",
    "            word_add_(word, wvm, l_words_dict, depth=dep, topn=tn)\n",
    "        else:\n",
    "            print (\"Word \"+word+\" not found.\")\n",
    "\n",
    "    l_words_simpl = {}\n",
    "    for w in l_words_dict :\n",
    "        l_words_simpl[w] = 1.0\n",
    "        for ww in l_words_dict[w] :\n",
    "            l_words_simpl[ww[0]]=ww[1]\n",
    "    return l_words_simpl"
   ]
  },
  {
   "cell_type": "code",
   "execution_count": 61,
   "metadata": {},
   "outputs": [],
   "source": [
    "list1 = get_words(wvm, lower_caste_keywords, 1, 10)\n",
    "list2 = get_words(wvm, positive_aspect, 1, 10)"
   ]
  },
  {
   "cell_type": "code",
   "execution_count": 68,
   "metadata": {},
   "outputs": [],
   "source": [
    "def similarity(list1,list2, wvm):\n",
    "    t1 = wvm[list1.keys()[0]]\n",
    "    l1 = len(list1.keys())\n",
    "    for i in range(1,l1):\n",
    "        t1 = np.sum((t1,wvm[list1.keys()[i]]),axis=0)\n",
    "    t2 = wvm[list2.keys()[0]]\n",
    "    l2 = len(list2.keys())\n",
    "    for i in range(1,l2):\n",
    "        t2 = np.sum((t2,wvm[list2.keys()[i]]),axis=0)\n",
    "    return 1 - spatial.distance.cosine(t1/l1, t2/l2)"
   ]
  },
  {
   "cell_type": "code",
   "execution_count": 69,
   "metadata": {},
   "outputs": [
    {
     "data": {
      "text/plain": [
       "0.42318486550253653"
      ]
     },
     "execution_count": 69,
     "metadata": {},
     "output_type": "execute_result"
    }
   ],
   "source": [
    "similarity(list1,list2, wvm)"
   ]
  },
  {
   "cell_type": "code",
   "execution_count": null,
   "metadata": {
    "collapsed": true
   },
   "outputs": [],
   "source": []
  }
 ],
 "metadata": {
  "kernelspec": {
   "display_name": "Python 2",
   "language": "python",
   "name": "python2"
  },
  "language_info": {
   "codemirror_mode": {
    "name": "ipython",
    "version": 2
   },
   "file_extension": ".py",
   "mimetype": "text/x-python",
   "name": "python",
   "nbconvert_exporter": "python",
   "pygments_lexer": "ipython2",
   "version": "2.7.14"
  }
 },
 "nbformat": 4,
 "nbformat_minor": 2
}
