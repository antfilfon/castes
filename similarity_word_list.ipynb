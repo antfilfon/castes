{
 "cells": [
  {
   "cell_type": "code",
   "execution_count": 1,
   "metadata": {},
   "outputs": [
    {
     "name": "stderr",
     "output_type": "stream",
     "text": [
      "D:\\Anaconda2\\lib\\site-packages\\gensim-3.3.0-py2.7-win-amd64.egg\\gensim\\utils.py:1167: UserWarning: detected Windows; aliasing chunkize to chunkize_serial\n",
      "  warnings.warn(\"detected Windows; aliasing chunkize to chunkize_serial\")\n"
     ]
    }
   ],
   "source": [
    "%matplotlib inline\n",
    "from gensim.models import Word2Vec\n",
    "from util_kw import *\n",
    "import numpy as np\n",
    "from scipy import spatial"
   ]
  },
  {
   "cell_type": "code",
   "execution_count": 2,
   "metadata": {
    "collapsed": true
   },
   "outputs": [],
   "source": [
    "path_root_processed='C:\\\\Users\\\\dell\\\\Desktop\\\\Castes\\\\processed'\n",
    "path_models = 'C:\\\\Users\\\\dell\\\\Desktop\\\\Castes\\\\processed\\\\word2vec_models'\n",
    "path_phraser_models='C:\\\\Users\\\\dell\\\\Desktop\\\\Castes\\\\processed\\\\phraser_models\\\\'\n",
    "journal = 'IN-indianexpress-india'"
   ]
  },
  {
   "cell_type": "code",
   "execution_count": 3,
   "metadata": {
    "collapsed": true
   },
   "outputs": [],
   "source": [
    "wvm = Word2Vec.load(path_models+'\\\\'+journal+'_with_phraser').wv"
   ]
  },
  {
   "cell_type": "code",
   "execution_count": 4,
   "metadata": {
    "collapsed": true
   },
   "outputs": [],
   "source": [
    "def get_words(wvm, cw, dep, tn):\n",
    "    vocab = wvm.vocab\n",
    "    all_words = [x for x in vocab.keys()]\n",
    "    l_words_dict = {}\n",
    "    for word in cw:\n",
    "        if word in all_words:\n",
    "            word_add_(word, wvm, l_words_dict, depth=dep, topn=tn)\n",
    "        else:\n",
    "            print (\"Word \"+word+\" not found.\")\n",
    "\n",
    "    l_words_simpl = {}\n",
    "    for w in l_words_dict :\n",
    "        l_words_simpl[w] = 1.0\n",
    "        for ww in l_words_dict[w] :\n",
    "            l_words_simpl[ww[0]]=ww[1]\n",
    "    return l_words_simpl"
   ]
  },
  {
   "cell_type": "code",
   "execution_count": 21,
   "metadata": {},
   "outputs": [
    {
     "name": "stdout",
     "output_type": "stream",
     "text": [
      "{u'patels': 0.8107336759567261, u'maratha_community': 0.8177695274353027, u'mevani': 0.8011233806610107, u'patidar': 0.7533156275749207, u'maratha': 1.0, u'marathas': 0.8165287971496582, u'patidar_community': 0.7877306342124939, u'andolan_samiti': 0.776228666305542, u'obc': 0.7336249351501465, u'tribals': 0.7894986867904663, u'dalits': 1.0, u'dalit': 0.7741990089416504, u'patidars': 0.7602109909057617, u'castes': 0.7196303606033325, u'adivasis': 0.7318634986877441, u'caste': 1.0}\n",
      "{u'recent_incidents': 0.7168557643890381, u'unrest': 1.0, u'violent': 0.7764041423797607, u'killings': 1.0, u'communal_tension': 0.7850935459136963, u'discrimination': 0.7234758138656616, u'atrocities': 1.0, u'clashes': 0.7126516103744507, u'erupted': 0.7271066308021545, u'rapes': 0.7659890055656433, u'violent_protests': 0.732324481010437, u'turmoil': 0.6585437059402466, u'exodus': 0.6559697389602661, u'oppression': 0.7872524261474609, u'killing': 0.7544947266578674, u'massive_protests': 0.7327413558959961, u'violent_clashes': 0.7630324363708496, u'basirhat': 0.720004677772522, u'communal_violence': 1.0, u'baduria': 0.7219089269638062, u'arson': 0.7165864706039429, u'kashmir_valley': 0.639713704586029, u'violence': 0.6908230781555176, u'brutal': 0.724181056022644, u'communal_riots': 0.7678031921386719, u'murders': 0.8087291717529297}\n"
     ]
    }
   ],
   "source": [
    "list1 = get_words(wvm, ['dalit'], 2, 5)\n",
    "list2 = get_words(wvm, ['violence'], 2, 5)\n",
    "print list1\n",
    "print list2"
   ]
  },
  {
   "cell_type": "code",
   "execution_count": 22,
   "metadata": {
    "collapsed": true
   },
   "outputs": [],
   "source": [
    "def similarity(list1,list2, wvm):\n",
    "    t1 = wvm[list1.keys()[0]]\n",
    "    l1 = len(list1.keys())\n",
    "    for i in range(1,l1):\n",
    "        t1 = np.sum((t1,wvm[list1.keys()[i]]),axis=0)\n",
    "    t2 = wvm[list2.keys()[0]]\n",
    "    l2 = len(list2.keys())\n",
    "    for i in range(1,l2):\n",
    "        t2 = np.sum((t2,wvm[list2.keys()[i]]),axis=0)\n",
    "    return 1 - spatial.distance.cosine(t1/l1, t2/l2)"
   ]
  },
  {
   "cell_type": "code",
   "execution_count": 23,
   "metadata": {},
   "outputs": [
    {
     "data": {
      "text/plain": [
       "0.52116318538419204"
      ]
     },
     "execution_count": 23,
     "metadata": {},
     "output_type": "execute_result"
    }
   ],
   "source": [
    "similarity(list1,list2, wvm)"
   ]
  },
  {
   "cell_type": "code",
   "execution_count": null,
   "metadata": {
    "collapsed": true
   },
   "outputs": [],
   "source": []
  }
 ],
 "metadata": {
  "kernelspec": {
   "display_name": "Python 2",
   "language": "python",
   "name": "python2"
  },
  "language_info": {
   "codemirror_mode": {
    "name": "ipython",
    "version": 2
   },
   "file_extension": ".py",
   "mimetype": "text/x-python",
   "name": "python",
   "nbconvert_exporter": "python",
   "pygments_lexer": "ipython2",
   "version": "2.7.14"
  }
 },
 "nbformat": 4,
 "nbformat_minor": 2
}
